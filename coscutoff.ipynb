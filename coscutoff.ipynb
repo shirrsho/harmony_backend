{
 "cells": [
  {
   "cell_type": "code",
   "execution_count": 31,
   "id": "555315cd-e7dd-47e1-b3f6-b23b0ba86ca0",
   "metadata": {},
   "outputs": [],
   "source": [
    "from sklearn.metrics.pairwise import cosine_similarity\n",
    "from sklearn.feature_extraction.text import TfidfVectorizer\n",
    "import pandas as pd\n",
    "\n",
    "# create TfidfVectorizer object\n",
    "tfidf = TfidfVectorizer()"
   ]
  },
  {
   "cell_type": "code",
   "execution_count": 32,
   "id": "e3edafa3-a884-4a3b-965b-6e1a2f3a3f4b",
   "metadata": {},
   "outputs": [],
   "source": [
    "df = pd.read_csv('req.csv')\n",
    "# df.requirements.array"
   ]
  },
  {
   "cell_type": "code",
   "execution_count": 33,
   "id": "fd93e3f4-22c8-46a7-b828-91fe77ce296f",
   "metadata": {},
   "outputs": [],
   "source": [
    "# compute a sparse matrix of word vectors for the corpus\n",
    "tfidf_matrix = tfidf.fit_transform(df.requirements.array)\n",
    "# df.requirements.array[:5]"
   ]
  },
  {
   "cell_type": "code",
   "execution_count": 34,
   "id": "cce63fe3-0674-4352-890e-d43c61576f90",
   "metadata": {},
   "outputs": [
    {
     "name": "stdout",
     "output_type": "stream",
     "text": [
      "[[1.         0.18562652 0.24011263 ... 0.07558159 0.06941379 0.03429937]\n",
      " [0.18562652 1.         0.10221313 ... 0.09498899 0.08622053 0.05505782]\n",
      " [0.24011263 0.10221313 1.         ... 0.09081605 0.08425572 0.07431349]\n",
      " ...\n",
      " [0.07558159 0.09498899 0.09081605 ... 1.         0.68828129 0.18400564]\n",
      " [0.06941379 0.08622053 0.08425572 ... 0.68828129 1.         0.15674962]\n",
      " [0.03429937 0.05505782 0.07431349 ... 0.18400564 0.15674962 1.        ]]\n"
     ]
    }
   ],
   "source": [
    "# compute and print the cosine similarity matrix\n",
    "cosine_sim = cosine_similarity(tfidf_matrix, tfidf_matrix)\n",
    "print(cosine_sim)"
   ]
  },
  {
   "cell_type": "code",
   "execution_count": 37,
   "id": "36a6fa6c-9b22-4e86-bf8b-741c39709005",
   "metadata": {},
   "outputs": [
    {
     "name": "stdout",
     "output_type": "stream",
     "text": [
      "15 16\n",
      "16 15\n",
      "17 20\n",
      "20 17\n",
      "44 61\n",
      "61 44\n",
      "84 85\n",
      "85 84\n",
      "89 90\n",
      "90 89\n"
     ]
    }
   ],
   "source": [
    "for i in range(len(df.requirements.array)):\n",
    "    for j in range(len(df.requirements.array)):\n",
    "        if(cosine_sim[i-1][j-1]>0.5):\n",
    "            if(i!=j):\n",
    "                print(i,j)"
   ]
  },
  {
   "cell_type": "code",
   "execution_count": null,
   "id": "1001dfe7-f465-4656-82f8-8b6c125ec9ea",
   "metadata": {},
   "outputs": [],
   "source": []
  }
 ],
 "metadata": {
  "kernelspec": {
   "display_name": "Python 3 (ipykernel)",
   "language": "python",
   "name": "python3"
  },
  "language_info": {
   "codemirror_mode": {
    "name": "ipython",
    "version": 3
   },
   "file_extension": ".py",
   "mimetype": "text/x-python",
   "name": "python",
   "nbconvert_exporter": "python",
   "pygments_lexer": "ipython3",
   "version": "3.11.4"
  }
 },
 "nbformat": 4,
 "nbformat_minor": 5
}
